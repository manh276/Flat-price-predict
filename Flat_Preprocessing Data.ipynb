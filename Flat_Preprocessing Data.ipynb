{
 "cells": [
  {
   "cell_type": "code",
   "execution_count": null,
   "id": "97d3f615",
   "metadata": {},
   "outputs": [],
   "source": [
    "%matplotlib inline\n",
    "import matplotlib.pyplot as plt\n",
    "import math\n",
    "from collections import defaultdict\n",
    "import numpy as np\n",
    "from numpy import unique\n",
    "import seaborn as sns\n",
    "import pandas as pd\n",
    "from sklearn.preprocessing import StandardScaler, LabelEncoder, MinMaxScaler\n",
    "import geopandas as gpd\n",
    "import geopy\n",
    "from geopy.geocoders import Nominatim\n",
    "import folium\n",
    "from folium.plugins import FastMarkerCluster\n",
    "from geopy.extra.rate_limiter import RateLimiter\n",
    "from sklearn.cluster import KMeans"
   ]
  },
  {
   "cell_type": "markdown",
   "id": "893a5046",
   "metadata": {},
   "source": [
    "# LOAD DATA and PREPROCESSING"
   ]
  },
  {
   "cell_type": "code",
   "execution_count": null,
   "id": "28984120",
   "metadata": {},
   "outputs": [],
   "source": [
    "data0 = pd.read_csv('D:/dataset/Flat_resale 2.csv')\n",
    "data = pd.read_csv('D:/dataset/flat_resale.csv')\n",
    "data = pd.concat([data0, data], sort=False)"
   ]
  },
  {
   "cell_type": "code",
   "execution_count": null,
   "id": "b11c4532",
   "metadata": {},
   "outputs": [],
   "source": [
    "data.head(3)"
   ]
  },
  {
   "cell_type": "code",
   "execution_count": null,
   "id": "1b5adce5",
   "metadata": {},
   "outputs": [],
   "source": [
    "data.drop_duplicates(inplace=True)"
   ]
  },
  {
   "cell_type": "code",
   "execution_count": null,
   "id": "800f851b",
   "metadata": {},
   "outputs": [],
   "source": [
    "dataframe = data.copy()"
   ]
  },
  {
   "cell_type": "code",
   "execution_count": null,
   "id": "adc24d40",
   "metadata": {},
   "outputs": [],
   "source": [
    "dataframe['date'] = pd.to_datetime(dataframe['month']) \n",
    "dataframe['month'] = dataframe['date'].apply(lambda date:date.month) \n",
    "dataframe['year'] = dataframe['date'].apply(lambda date:date.year)"
   ]
  },
  {
   "cell_type": "code",
   "execution_count": null,
   "id": "ab0c736b",
   "metadata": {},
   "outputs": [],
   "source": [
    "dataframe.head(2)"
   ]
  },
  {
   "cell_type": "code",
   "execution_count": null,
   "id": "cef15518",
   "metadata": {},
   "outputs": [],
   "source": [
    "cpi=pd.read_excel('D:/dataset/CPI_Sing.xlsx')\n",
    "cpi['date'] = pd.to_datetime(cpi['date'], format='%Y %b') # to datetime"
   ]
  },
  {
   "cell_type": "code",
   "execution_count": null,
   "id": "da51cb98",
   "metadata": {},
   "outputs": [],
   "source": [
    "dataframe = dataframe.merge(cpi, on='date', how='left')"
   ]
  },
  {
   "cell_type": "code",
   "execution_count": null,
   "id": "742a51c2",
   "metadata": {},
   "outputs": [],
   "source": [
    "dataframe['real_price'] = round((dataframe['resale_price'] / dataframe['cpi']) * 100,0)"
   ]
  },
  {
   "cell_type": "code",
   "execution_count": null,
   "id": "844af093",
   "metadata": {},
   "outputs": [],
   "source": [
    "dataframe['storey_range'] = dataframe['storey_range'].apply(lambda storey_range:storey_range[:2])"
   ]
  },
  {
   "cell_type": "code",
   "execution_count": null,
   "id": "c809bfa8",
   "metadata": {},
   "outputs": [],
   "source": [
    "dataframe.head()"
   ]
  },
  {
   "cell_type": "code",
   "execution_count": null,
   "id": "156585a3",
   "metadata": {},
   "outputs": [],
   "source": [
    "#Geocode by town (Singapore is so small that geocoding by addresses might not make much difference compared to geocoding to town)\n",
    "#tạo 2 cột tung độ và vĩ độ dựa trên Town\n",
    "town = [x for x in dataframe['town'].unique().tolist() \n",
    "            if type(x) == str]\n",
    "latitude = []\n",
    "longitude =  []\n",
    "for i in range(0, len(town)):\n",
    "    # remove things that does not seem usefull here\n",
    "    try:\n",
    "        geolocator = Nominatim(user_agent=\"ny_explorer\")\n",
    "        loc = geolocator.geocode(town[i])\n",
    "        latitude.append(loc.latitude)\n",
    "        longitude.append(loc.longitude)\n",
    "        #print('The geographical coordinate of location are {}, {}.'.format(loc.latitude, loc.longitude))\n",
    "    except:\n",
    "        # in the case the geolocator does not work, then add nan element to list\n",
    "        # to keep the right size\n",
    "        latitude.append(np.nan)\n",
    "        longitude.append(np.nan)\n",
    "# create a dataframe with the locatio, latitude and longitude\n",
    "df_ = pd.DataFrame({'town':town, \n",
    "                    'latitude': latitude,\n",
    "                    'longitude':longitude})\n",
    "# merge on Restaurant_Location with rest_df to get the column \n",
    "dataframe = dataframe.merge(df_, on='town', how='left')"
   ]
  },
  {
   "cell_type": "code",
   "execution_count": null,
   "id": "db8fdbe1",
   "metadata": {},
   "outputs": [],
   "source": [
    "flat_typeDict = {'1 ROOM': 1,'2 ROOM': 2,'3 ROOM': 3,'4 ROOM': 4,'5 ROOM': 5,'EXECUTIVE': 6,'MULTI-GENERATION': 7,}\n",
    "dataframe['flat_type'] = dataframe['flat_type'].replace(flat_typeDict, regex=True)"
   ]
  },
  {
   "cell_type": "code",
   "execution_count": null,
   "id": "278996a0",
   "metadata": {},
   "outputs": [],
   "source": [
    "location = dataframe[['latitude','longitude','real_price']]\n",
    "location.head()"
   ]
  },
  {
   "cell_type": "code",
   "execution_count": null,
   "id": "0e0f29d4",
   "metadata": {},
   "outputs": [],
   "source": [
    "mmscale = MinMaxScaler()\n",
    "mmscale.fit(location)"
   ]
  },
  {
   "cell_type": "code",
   "execution_count": null,
   "id": "ea44df41",
   "metadata": {},
   "outputs": [],
   "source": [
    "location_scaled = pd.DataFrame(mmscale.transform(location), columns = ['latitude', 'longitude','real_price'])\n",
    "location_scaled.head()"
   ]
  },
  {
   "cell_type": "code",
   "execution_count": null,
   "id": "fb1597fe",
   "metadata": {},
   "outputs": [],
   "source": [
    "location_scaled.dtypes"
   ]
  },
  {
   "cell_type": "markdown",
   "id": "74b98a08",
   "metadata": {},
   "source": [
    "# sử dụng KMEANS để phân các Town vào các cụm theo giá"
   ]
  },
  {
   "cell_type": "code",
   "execution_count": null,
   "id": "9853bae9",
   "metadata": {},
   "outputs": [],
   "source": [
    "wcss = []\n",
    "for i in range(1, 11):\n",
    "    kmeans = KMeans(n_clusters = i, init = 'k-means++', random_state = 42)\n",
    "    kmeans.fit(location_scaled)\n",
    "    wcss.append(kmeans.inertia_)\n",
    "plt.plot(range(1, 11), wcss)\n",
    "plt.title('The Elbow Method')\n",
    "plt.xlabel('Number of clusters')\n",
    "plt.ylabel('WCSS')\n",
    "plt.show()"
   ]
  },
  {
   "cell_type": "code",
   "execution_count": null,
   "id": "57d49e22",
   "metadata": {},
   "outputs": [],
   "source": [
    "km_final = KMeans(n_clusters = 5, random_state = 123)\n",
    "km_final.fit(location_scaled)\n",
    "location_scaled['Cluster'] = km_final.labels_"
   ]
  },
  {
   "cell_type": "code",
   "execution_count": null,
   "id": "2d28e0bd",
   "metadata": {},
   "outputs": [],
   "source": [
    "location_scaled"
   ]
  },
  {
   "cell_type": "code",
   "execution_count": null,
   "id": "4cae2877",
   "metadata": {},
   "outputs": [],
   "source": [
    "dataframe['Cluster'] = km_final.labels_"
   ]
  },
  {
   "cell_type": "code",
   "execution_count": null,
   "id": "400fd68e",
   "metadata": {},
   "outputs": [],
   "source": [
    "dataframe=dataframe.drop('town',axis='columns')\n",
    "dataframe.head()"
   ]
  },
  {
   "cell_type": "code",
   "execution_count": null,
   "id": "caae8137",
   "metadata": {},
   "outputs": [],
   "source": [
    "corrmat = dataframe.corr()\n",
    "#resale_price correlation matrix\n",
    "k = 12 #number of variables for heatmap\n",
    "cols = corrmat.nlargest(k, 'resale_price')['resale_price'].index\n",
    "cm = np.corrcoef(dataframe[cols].values.T)\n",
    "sns.set(font_scale=1.25)\n",
    "hm = sns.heatmap(cm, cbar=True, annot=True, square=True, fmt='.2f', annot_kws={'size': 10}, yticklabels=cols.values, xticklabels=cols.values)\n",
    "plt.show()"
   ]
  },
  {
   "cell_type": "code",
   "execution_count": null,
   "id": "fdadcb12",
   "metadata": {},
   "outputs": [],
   "source": [
    "dataframe = dataframe.drop('block',axis=1)\n",
    "dataframe = dataframe.drop('month',axis=1)\n",
    "dataframe = dataframe.drop('street_name',axis=1)\n",
    "dataframe = dataframe.drop('flat_model',axis=1)\n",
    "dataframe = dataframe.drop('year',axis=1)\n",
    "dataframe = dataframe.drop('date',axis=1)\n",
    "dataframe = dataframe.drop('remaining_lease',axis=1)\n",
    "dataframe = dataframe.drop('cpi',axis=1)\n",
    "dataframe = dataframe.drop('resale_price',axis=1)\n",
    "dataframe = dataframe.drop('timeseries',axis=1)\n"
   ]
  },
  {
   "cell_type": "code",
   "execution_count": null,
   "id": "34982227",
   "metadata": {},
   "outputs": [],
   "source": [
    "dataframe.head()"
   ]
  },
  {
   "cell_type": "code",
   "execution_count": null,
   "id": "d3ebf710",
   "metadata": {},
   "outputs": [],
   "source": [
    "dataframe['real_price'] = round((dataframe['real_price'] / 1000))"
   ]
  },
  {
   "cell_type": "code",
   "execution_count": null,
   "id": "3f2255f8",
   "metadata": {},
   "outputs": [],
   "source": [
    "dataframe"
   ]
  },
  {
   "cell_type": "code",
   "execution_count": null,
   "id": "1704b2d1",
   "metadata": {},
   "outputs": [],
   "source": [
    "dataframe=dataframe.astype('float')"
   ]
  },
  {
   "cell_type": "markdown",
   "id": "28b504c9",
   "metadata": {},
   "source": [
    "# FINAL DATA"
   ]
  },
  {
   "cell_type": "code",
   "execution_count": null,
   "id": "9825c224",
   "metadata": {},
   "outputs": [],
   "source": [
    "dataframe"
   ]
  },
  {
   "cell_type": "code",
   "execution_count": null,
   "id": "2f514153",
   "metadata": {},
   "outputs": [],
   "source": [
    "dataframe.to_csv(\"D:/dataset/Flat_PreProcessed.csv\",index=False)"
   ]
  },
  {
   "cell_type": "markdown",
   "id": "e2fae729",
   "metadata": {},
   "source": [
    "# PREPROCESSING DATA FROM ANOTHER WEB\n"
   ]
  },
  {
   "cell_type": "code",
   "execution_count": null,
   "id": "aba75fbb",
   "metadata": {
    "scrolled": false
   },
   "outputs": [],
   "source": [
    "datatest = pd.read_excel('D:/dataset/testdata.xlsx')\n",
    "datatest.head()"
   ]
  },
  {
   "cell_type": "code",
   "execution_count": null,
   "id": "b1e94ddf",
   "metadata": {},
   "outputs": [],
   "source": [
    "datatest['date'] = pd.to_datetime(datatest['date'])"
   ]
  },
  {
   "cell_type": "code",
   "execution_count": null,
   "id": "d53fdaa4",
   "metadata": {},
   "outputs": [],
   "source": [
    "datatest = datatest.merge(cpi, on='date', how='left')"
   ]
  },
  {
   "cell_type": "code",
   "execution_count": null,
   "id": "0f8d6dd7",
   "metadata": {},
   "outputs": [],
   "source": [
    "datatest['real_price'] = round((datatest['Price'] / datatest['cpi']) * 100,0)"
   ]
  },
  {
   "cell_type": "code",
   "execution_count": null,
   "id": "2b1bc04a",
   "metadata": {},
   "outputs": [],
   "source": [
    "datatest['real_price'] = round((datatest['real_price'] / 1000))"
   ]
  },
  {
   "cell_type": "code",
   "execution_count": null,
   "id": "d2a99367",
   "metadata": {},
   "outputs": [],
   "source": [
    "flat_typeDict = {'1 ROOM': 1,'2 ROOM': 2,'3 ROOM': 3,'4 ROOM': 4,'5 ROOM': 5,'EXECUTIVE': 6,'MULTI-GENERATION': 7,}\n",
    "datatest['flat_type'] = datatest['flat_type'].replace(flat_typeDict, regex=True)\n",
    "datatest = datatest.merge(df_, on='town', how='left')"
   ]
  },
  {
   "cell_type": "code",
   "execution_count": null,
   "id": "fb8a35ea",
   "metadata": {},
   "outputs": [],
   "source": [
    "datatest = datatest.drop(['date','timeseries','cpi'],axis =1)"
   ]
  },
  {
   "cell_type": "code",
   "execution_count": null,
   "id": "ff89995f",
   "metadata": {},
   "outputs": [],
   "source": [
    "lct = location_scaled.drop('real_price', axis=1)"
   ]
  },
  {
   "cell_type": "code",
   "execution_count": null,
   "id": "b76e842f",
   "metadata": {},
   "outputs": [],
   "source": [
    "lct['Cluster'] = lct.groupby('latitude')['Cluster'].transform(lambda x: x.mode()[0])"
   ]
  },
  {
   "cell_type": "code",
   "execution_count": null,
   "id": "37cc3274",
   "metadata": {},
   "outputs": [],
   "source": [
    "lct.drop_duplicates(inplace=True)"
   ]
  },
  {
   "cell_type": "code",
   "execution_count": null,
   "id": "3ed137de",
   "metadata": {},
   "outputs": [],
   "source": [
    "lct = lct.reset_index(drop=True)"
   ]
  },
  {
   "cell_type": "code",
   "execution_count": null,
   "id": "1c754d37",
   "metadata": {},
   "outputs": [],
   "source": [
    "lct = lct.drop(['latitude','longitude'],axis=1)"
   ]
  },
  {
   "cell_type": "code",
   "execution_count": null,
   "id": "fecfba43",
   "metadata": {},
   "outputs": [],
   "source": [
    "# Min-Max Normalization\n",
    "df = df_.drop('town', axis=1)\n",
    "df_norm = (df-df.min())/(df.max()-df.min())\n",
    "df_norm = pd.concat((df_.town,df_norm), 1)"
   ]
  },
  {
   "cell_type": "code",
   "execution_count": null,
   "id": "b81ff760",
   "metadata": {},
   "outputs": [],
   "source": [
    "group =  pd.concat([df_norm,lct],axis =1)\n"
   ]
  },
  {
   "cell_type": "code",
   "execution_count": null,
   "id": "c44b212d",
   "metadata": {},
   "outputs": [],
   "source": [
    "group = group.drop(['latitude','longitude'],axis=1)"
   ]
  },
  {
   "cell_type": "code",
   "execution_count": null,
   "id": "cef0f4b9",
   "metadata": {},
   "outputs": [],
   "source": [
    "datatest1 = datatest.merge(group, on='town', how='left')"
   ]
  },
  {
   "cell_type": "code",
   "execution_count": null,
   "id": "7d29d94e",
   "metadata": {},
   "outputs": [],
   "source": [
    "datatest1 = datatest1.drop(['Price','town'],axis=1)\n"
   ]
  },
  {
   "cell_type": "code",
   "execution_count": null,
   "id": "fbbace11",
   "metadata": {},
   "outputs": [],
   "source": [
    "datatest1.head()"
   ]
  },
  {
   "cell_type": "code",
   "execution_count": null,
   "id": "eaebd34f",
   "metadata": {},
   "outputs": [],
   "source": [
    "datatest1=datatest1.astype('float')"
   ]
  },
  {
   "cell_type": "code",
   "execution_count": null,
   "id": "d43a7a0c",
   "metadata": {},
   "outputs": [],
   "source": [
    "datatest1.head()"
   ]
  },
  {
   "cell_type": "code",
   "execution_count": null,
   "id": "6bc9bed0",
   "metadata": {},
   "outputs": [],
   "source": [
    "datatest1.to_csv(\"D:/dataset/Flat_test_PreProcessed.csv\",index=False)"
   ]
  }
 ],
 "metadata": {
  "kernelspec": {
   "display_name": "Python 3 (ipykernel)",
   "language": "python",
   "name": "python3"
  },
  "language_info": {
   "codemirror_mode": {
    "name": "ipython",
    "version": 3
   },
   "file_extension": ".py",
   "mimetype": "text/x-python",
   "name": "python",
   "nbconvert_exporter": "python",
   "pygments_lexer": "ipython3",
   "version": "3.9.7"
  }
 },
 "nbformat": 4,
 "nbformat_minor": 5
}
